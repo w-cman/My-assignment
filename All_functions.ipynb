{
 "cells": [
  {
   "cell_type": "markdown",
   "metadata": {},
   "source": [
    "## the user should be able to provide a Movie title to your program. It should determine if this movie exists or not and, if it does not, respond accordingly. "
   ]
  },
  {
   "cell_type": "code",
   "execution_count": null,
   "metadata": {},
   "outputs": [],
   "source": [
    "import re\n",
    "import sys\n",
    "!{sys.executable} -m pip install --upgrade pip\n",
    "!{sys.executable} -m pip install omdb\n",
    "import omdb\n",
    "omdb.set_default('apikey', '99510f0c')\n",
    "\n",
    "user_provide_movie_title = input(\"Enter your movie title here : \")\n",
    "omdb_got_info = omdb.get(title= user_provide_movie_title)\n",
    "if omdb_got_info == {} :\n",
    "    print(\"Error this movie does not exist\")\n",
    "else : print('This movie exists')"
   ]
  },
  {
   "cell_type": "markdown",
   "metadata": {},
   "source": [
    "## If a legitimate movie has been provided, at a minimum, the program should provide the userwith information about this movie (i.e, name, genre, release date, runtime, director, awards,etc.)."
   ]
  },
  {
   "cell_type": "code",
   "execution_count": null,
   "metadata": {},
   "outputs": [],
   "source": [
    "\n",
    "list_of_keys = ['title','genre','released','runtime','director','awards','plot']\n",
    "for key in list_of_keys :\n",
    "    info_keys = key.capitalize() + ': ' + omdb_got_info[key]\n",
    "    print(info_keys)"
   ]
  },
  {
   "cell_type": "markdown",
   "metadata": {},
   "source": [
    "##  the program should write this information to a .txt file in a manner thatcan later be read in when required."
   ]
  },
  {
   "cell_type": "code",
   "execution_count": null,
   "metadata": {},
   "outputs": [],
   "source": [
    "open_text_file = open('movies.txt','r+')\n",
    "list_of_keys = ['title','genre','released','runtime','director','awards','plot']\n",
    "for key in list_of_keys :\n",
    "    open_text_file.write(key.capitalize() + ': ' + omdb_got_info[key] + '\\n')\n",
    "open_text_file.close()"
   ]
  },
  {
   "cell_type": "markdown",
   "metadata": {},
   "source": [
    "## When the program starts, it should display the titles of the movies previously looked up "
   ]
  },
  {
   "cell_type": "code",
   "execution_count": null,
   "metadata": {},
   "outputs": [],
   "source": [
    "open_text_file = open('movies.txt','r+')\n",
    "word = 'Title:'\n",
    "read_line_in_file = \" \"\n",
    "while (read_line_in_file):\n",
    "    read_line_in_file = open_text_file.readline()\n",
    "    split_the_lines = read_line_in_file.split()\n",
    "    if word in split_the_lines:\n",
    "        print(read_line_in_file)\n",
    "open_text_file.close()"
   ]
  },
  {
   "cell_type": "markdown",
   "metadata": {},
   "source": [
    "## give the user the option to either look up a new movie or view the information for one of the previously looked up movies from the information stored in the textfile."
   ]
  },
  {
   "cell_type": "code",
   "execution_count": null,
   "metadata": {},
   "outputs": [],
   "source": [
    "con_1=input(\"Do you want to stop using the program? If so then type stop, if not press enter.\")\n",
    "\n",
    "while con_1==\"Stop\" or con_1==\"stop\":\n",
    "    break\n",
    "else:\n",
    "    first_question=input(\"Type new to search for a new movie or type old for an already searched movie?\")\n",
    "    if first_question==\"new\" or first_question==\"New\":\n",
    "        user_wants_new_movie()\n",
    "    else: user_wants_already_searched()"
   ]
  },
  {
   "cell_type": "code",
   "execution_count": null,
   "metadata": {},
   "outputs": [],
   "source": []
  },
  {
   "cell_type": "code",
   "execution_count": null,
   "metadata": {},
   "outputs": [],
   "source": []
  },
  {
   "cell_type": "code",
   "execution_count": null,
   "metadata": {},
   "outputs": [],
   "source": [
    "# regte een ma kyk of onderste een iets anders het\n",
    "import re\n",
    "import sys\n",
    "!{sys.executable} -m pip install --upgrade pip\n",
    "!{sys.executable} -m pip install omdb\n",
    "import omdb\n",
    "omdb.set_default('apikey', '99510f0c')\n",
    "\n",
    "def user_wants_new_movie():\n",
    "    user_provide_movie_title = input(\"Enter your movie title here : \")\n",
    "    omdb_got_info = omdb.get(title= user_provide_movie_title)\n",
    "    if omdb_got_info == {} :\n",
    "        print(\"Error this movie does not exist\")\n",
    "    else : print('This movie exists')\n",
    "    \n",
    "    list_of_keys = ['title','genre','released','runtime','director','awards','plot']\n",
    "    for key in list_of_keys :\n",
    "        info_keys = key.capitalize() + ': ' + omdb_got_info[key]\n",
    "        print(info_keys)\n",
    "    open_text_file = open('movies.txt','a+')\n",
    "    list_of_keys = ['title','genre','released','runtime','director','awards','plot']\n",
    "    for key in list_of_keys :\n",
    "        if key == 'title' :\n",
    "            open_text_file.write(key.capitalize() + ': ' + omdb_got_info[key] + '\\n')\n",
    "        else : open_text_file.write(key.capitalize() + ': ' + omdb_got_info[key] + '\\n')\n",
    "    open_text_file.close()\n",
    "\n",
    "def user_wants_already_searched():\n",
    "    open_text_file = open('movies.txt','r+')\n",
    "    word = 'Title:'\n",
    "    read_line_in_file = \" \"\n",
    "    while (read_line_in_file):\n",
    "        read_line_in_file = open_text_file.readline()\n",
    "        split_the_lines = read_line_in_file.split()\n",
    "        if word in split_the_lines:\n",
    "            print(read_line_in_file)\n",
    "    user_choose_title_already = input(\"Enter the title you want to see \")\n",
    "    if user_choose_title_already in read_line_in_file:\n",
    "        print(omdb_got_info)\n",
    "    else : print(\"That movie does not appear in the history please check spelling\")    \n",
    "    open_text_file.close()\n",
    "\n",
    "def final_shizz():    \n",
    "    con_1=\"\"\n",
    "    while con_1!=\"Stop\" or con_1!=\"stop\":\n",
    "        con_1=input(\"Press enter to use the program, if you have already used the program and want to stop, type stop.\")\n",
    "        if con_1 ==\"Stop\" or con_1==\"stop\":\n",
    "            break\n",
    "        first_question=input(\"Type new to search for a new movie or type old for an already searched movie?\")\n",
    "        if first_question==\"new\" or first_question==\"New\":\n",
    "            user_wants_new_movie()\n",
    "        elif first_question==\"old\" or first_question==\"Old\":\n",
    "             user_wants_already_searched()\n",
    "        else: print(\"Please enter new or old, check for spelling errors.\")\n",
    "    print(\"Thank you for using my program\")\n",
    "final_shizz()"
   ]
  },
  {
   "cell_type": "code",
   "execution_count": null,
   "metadata": {},
   "outputs": [],
   "source": [
    "x = {'title1':'hello','title2':'world','title3':'yeet'}\n",
    "count = 1\n",
    "for line in x:\n",
    "    if line.startswith('title'):\n",
    "        print(str(count)+\" \"+line)\n",
    "    count+=1"
   ]
  },
  {
   "cell_type": "code",
   "execution_count": null,
   "metadata": {},
   "outputs": [],
   "source": []
  },
  {
   "cell_type": "code",
   "execution_count": null,
   "metadata": {},
   "outputs": [],
   "source": []
  },
  {
   "cell_type": "code",
   "execution_count": null,
   "metadata": {},
   "outputs": [],
   "source": []
  },
  {
   "cell_type": "code",
   "execution_count": null,
   "metadata": {},
   "outputs": [],
   "source": []
  },
  {
   "cell_type": "code",
   "execution_count": null,
   "metadata": {},
   "outputs": [],
   "source": []
  },
  {
   "cell_type": "code",
   "execution_count": null,
   "metadata": {},
   "outputs": [],
   "source": []
  },
  {
   "cell_type": "code",
   "execution_count": null,
   "metadata": {},
   "outputs": [],
   "source": []
  },
  {
   "cell_type": "code",
   "execution_count": null,
   "metadata": {},
   "outputs": [],
   "source": []
  },
  {
   "cell_type": "code",
   "execution_count": null,
   "metadata": {},
   "outputs": [],
   "source": []
  },
  {
   "cell_type": "code",
   "execution_count": null,
   "metadata": {},
   "outputs": [],
   "source": []
  },
  {
   "cell_type": "code",
   "execution_count": null,
   "metadata": {},
   "outputs": [],
   "source": []
  },
  {
   "cell_type": "code",
   "execution_count": null,
   "metadata": {},
   "outputs": [],
   "source": []
  },
  {
   "cell_type": "code",
   "execution_count": null,
   "metadata": {},
   "outputs": [],
   "source": []
  },
  {
   "cell_type": "code",
   "execution_count": null,
   "metadata": {},
   "outputs": [],
   "source": []
  },
  {
   "cell_type": "code",
   "execution_count": null,
   "metadata": {},
   "outputs": [],
   "source": []
  },
  {
   "cell_type": "code",
   "execution_count": null,
   "metadata": {},
   "outputs": [],
   "source": []
  },
  {
   "cell_type": "code",
   "execution_count": null,
   "metadata": {},
   "outputs": [],
   "source": []
  },
  {
   "cell_type": "code",
   "execution_count": null,
   "metadata": {},
   "outputs": [],
   "source": []
  }
 ],
 "metadata": {
  "kernelspec": {
   "display_name": "Python 3",
   "language": "python",
   "name": "python3"
  },
  "language_info": {
   "codemirror_mode": {
    "name": "ipython",
    "version": 3
   },
   "file_extension": ".py",
   "mimetype": "text/x-python",
   "name": "python",
   "nbconvert_exporter": "python",
   "pygments_lexer": "ipython3",
   "version": "3.7.6"
  }
 },
 "nbformat": 4,
 "nbformat_minor": 4
}
